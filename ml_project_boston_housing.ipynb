{
 "cells": [
  {
   "cell_type": "markdown",
   "id": "a7f20588",
   "metadata": {
    "ExecuteTime": {
     "end_time": "2023-06-20T10:19:09.949191Z",
     "start_time": "2023-06-20T10:19:09.938504Z"
    }
   },
   "source": [
    "The Boston Housing Dataset is a derived from information collected by the U.S. Census Service concerning housing in the area of Boston MA. The following describes the dataset columns:\n",
    "\n",
    "1. CRIM - per capita crime rate by town\n",
    "2. ZN - proportion of residential land zoned for lots over 25,000 sq.ft.\n",
    "3. INDUS - proportion of non-retail business acres per town.\n",
    "4. CHAS - Charles River dummy variable (1 if tract bounds river; 0 otherwise)\n",
    "5. NOX - nitric oxides concentration (parts per 10 million)\n",
    "6. RM - average number of rooms per dwelling\n",
    "7. AGE - proportion of owner-occupied units built prior to 1940\n",
    "8. DIS - weighted distances to five Boston employment centres\n",
    "9. RAD - index of accessibility to radial highways\n",
    "10. TAX - full-value property-tax rate per ten thousand dollar.\n",
    "11. PTRATIO - pupil-teacher ratio by town\n",
    "12. B - 1000(Bk - 0.63)^2 where Bk is the proportion of blacks by town\n",
    "13. LSTAT - % lower status of the population\n",
    "14. MEDV - Median value of owner-occupied homes in $1000's\n",
    "\n",
    "We are going to predict the value of MEDV by taking the other 13 attributes as input, this problem is a regression task. We will be using root mean square as a performance measure.\n",
    "\n",
    "This dataset is taken from Kaggle (https://www.kaggle.com/code/prasadperera/the-boston-housing-dataset/input)"
   ]
  },
  {
   "cell_type": "code",
   "execution_count": 1,
   "id": "6e4b654d",
   "metadata": {
    "ExecuteTime": {
     "end_time": "2023-06-20T14:19:09.049374Z",
     "start_time": "2023-06-20T14:19:04.348128Z"
    }
   },
   "outputs": [],
   "source": [
    "import pandas as pd\n",
    "import numpy as np\n",
    "import matplotlib.pyplot as plt\n",
    "from ydata_profiling import ProfileReport\n",
    "import seaborn as sns"
   ]
  },
  {
   "cell_type": "code",
   "execution_count": 2,
   "id": "f33c3c87",
   "metadata": {
    "ExecuteTime": {
     "end_time": "2023-06-20T14:19:09.151097Z",
     "start_time": "2023-06-20T14:19:09.054368Z"
    }
   },
   "outputs": [
    {
     "data": {
      "text/html": [
       "<div>\n",
       "<style scoped>\n",
       "    .dataframe tbody tr th:only-of-type {\n",
       "        vertical-align: middle;\n",
       "    }\n",
       "\n",
       "    .dataframe tbody tr th {\n",
       "        vertical-align: top;\n",
       "    }\n",
       "\n",
       "    .dataframe thead th {\n",
       "        text-align: right;\n",
       "    }\n",
       "</style>\n",
       "<table border=\"1\" class=\"dataframe\">\n",
       "  <thead>\n",
       "    <tr style=\"text-align: right;\">\n",
       "      <th></th>\n",
       "      <th>CRIM</th>\n",
       "      <th>ZN</th>\n",
       "      <th>INDUS</th>\n",
       "      <th>CHAS</th>\n",
       "      <th>NOX</th>\n",
       "      <th>RM</th>\n",
       "      <th>AGE</th>\n",
       "      <th>DIS</th>\n",
       "      <th>RAD</th>\n",
       "      <th>TAX</th>\n",
       "      <th>PTRATIO</th>\n",
       "      <th>B</th>\n",
       "      <th>LSTAT</th>\n",
       "      <th>MEDV</th>\n",
       "    </tr>\n",
       "  </thead>\n",
       "  <tbody>\n",
       "    <tr>\n",
       "      <th>0</th>\n",
       "      <td>0.00632</td>\n",
       "      <td>18.0</td>\n",
       "      <td>2.31</td>\n",
       "      <td>0</td>\n",
       "      <td>0.538</td>\n",
       "      <td>6.575</td>\n",
       "      <td>65.2</td>\n",
       "      <td>4.0900</td>\n",
       "      <td>1</td>\n",
       "      <td>296</td>\n",
       "      <td>15.3</td>\n",
       "      <td>396.90</td>\n",
       "      <td>4.98</td>\n",
       "      <td>24.0</td>\n",
       "    </tr>\n",
       "    <tr>\n",
       "      <th>1</th>\n",
       "      <td>0.02731</td>\n",
       "      <td>0.0</td>\n",
       "      <td>7.07</td>\n",
       "      <td>0</td>\n",
       "      <td>0.469</td>\n",
       "      <td>6.421</td>\n",
       "      <td>78.9</td>\n",
       "      <td>4.9671</td>\n",
       "      <td>2</td>\n",
       "      <td>242</td>\n",
       "      <td>17.8</td>\n",
       "      <td>396.90</td>\n",
       "      <td>9.14</td>\n",
       "      <td>21.6</td>\n",
       "    </tr>\n",
       "    <tr>\n",
       "      <th>2</th>\n",
       "      <td>0.02729</td>\n",
       "      <td>0.0</td>\n",
       "      <td>7.07</td>\n",
       "      <td>0</td>\n",
       "      <td>0.469</td>\n",
       "      <td>7.185</td>\n",
       "      <td>61.1</td>\n",
       "      <td>4.9671</td>\n",
       "      <td>2</td>\n",
       "      <td>242</td>\n",
       "      <td>17.8</td>\n",
       "      <td>392.83</td>\n",
       "      <td>4.03</td>\n",
       "      <td>34.7</td>\n",
       "    </tr>\n",
       "    <tr>\n",
       "      <th>3</th>\n",
       "      <td>0.03237</td>\n",
       "      <td>0.0</td>\n",
       "      <td>2.18</td>\n",
       "      <td>0</td>\n",
       "      <td>0.458</td>\n",
       "      <td>6.998</td>\n",
       "      <td>45.8</td>\n",
       "      <td>6.0622</td>\n",
       "      <td>3</td>\n",
       "      <td>222</td>\n",
       "      <td>18.7</td>\n",
       "      <td>394.63</td>\n",
       "      <td>2.94</td>\n",
       "      <td>33.4</td>\n",
       "    </tr>\n",
       "    <tr>\n",
       "      <th>4</th>\n",
       "      <td>0.06905</td>\n",
       "      <td>0.0</td>\n",
       "      <td>2.18</td>\n",
       "      <td>0</td>\n",
       "      <td>0.458</td>\n",
       "      <td>7.147</td>\n",
       "      <td>54.2</td>\n",
       "      <td>6.0622</td>\n",
       "      <td>3</td>\n",
       "      <td>222</td>\n",
       "      <td>18.7</td>\n",
       "      <td>396.90</td>\n",
       "      <td>5.33</td>\n",
       "      <td>36.2</td>\n",
       "    </tr>\n",
       "  </tbody>\n",
       "</table>\n",
       "</div>"
      ],
      "text/plain": [
       "      CRIM    ZN  INDUS  CHAS    NOX     RM   AGE     DIS  RAD  TAX  PTRATIO  \\\n",
       "0  0.00632  18.0   2.31     0  0.538  6.575  65.2  4.0900    1  296     15.3   \n",
       "1  0.02731   0.0   7.07     0  0.469  6.421  78.9  4.9671    2  242     17.8   \n",
       "2  0.02729   0.0   7.07     0  0.469  7.185  61.1  4.9671    2  242     17.8   \n",
       "3  0.03237   0.0   2.18     0  0.458  6.998  45.8  6.0622    3  222     18.7   \n",
       "4  0.06905   0.0   2.18     0  0.458  7.147  54.2  6.0622    3  222     18.7   \n",
       "\n",
       "        B  LSTAT  MEDV  \n",
       "0  396.90   4.98  24.0  \n",
       "1  396.90   9.14  21.6  \n",
       "2  392.83   4.03  34.7  \n",
       "3  394.63   2.94  33.4  \n",
       "4  396.90   5.33  36.2  "
      ]
     },
     "execution_count": 2,
     "metadata": {},
     "output_type": "execute_result"
    }
   ],
   "source": [
    "housing = pd.read_csv(\"housing.csv\")\n",
    "housing.head()"
   ]
  },
  {
   "cell_type": "code",
   "execution_count": 3,
   "id": "bc573247",
   "metadata": {
    "ExecuteTime": {
     "end_time": "2023-06-20T14:19:09.206982Z",
     "start_time": "2023-06-20T14:19:09.157646Z"
    }
   },
   "outputs": [
    {
     "name": "stdout",
     "output_type": "stream",
     "text": [
      "<class 'pandas.core.frame.DataFrame'>\n",
      "RangeIndex: 506 entries, 0 to 505\n",
      "Data columns (total 14 columns):\n",
      " #   Column   Non-Null Count  Dtype  \n",
      "---  ------   --------------  -----  \n",
      " 0   CRIM     506 non-null    float64\n",
      " 1   ZN       506 non-null    float64\n",
      " 2   INDUS    506 non-null    float64\n",
      " 3   CHAS     506 non-null    int64  \n",
      " 4   NOX      506 non-null    float64\n",
      " 5   RM       506 non-null    float64\n",
      " 6   AGE      506 non-null    float64\n",
      " 7   DIS      506 non-null    float64\n",
      " 8   RAD      506 non-null    int64  \n",
      " 9   TAX      506 non-null    int64  \n",
      " 10  PTRATIO  506 non-null    float64\n",
      " 11  B        506 non-null    float64\n",
      " 12  LSTAT    506 non-null    float64\n",
      " 13  MEDV     506 non-null    float64\n",
      "dtypes: float64(11), int64(3)\n",
      "memory usage: 55.5 KB\n"
     ]
    }
   ],
   "source": [
    "housing.info()"
   ]
  },
  {
   "cell_type": "code",
   "execution_count": 4,
   "id": "7c8e306a",
   "metadata": {
    "ExecuteTime": {
     "end_time": "2023-06-20T14:19:09.396701Z",
     "start_time": "2023-06-20T14:19:09.217733Z"
    }
   },
   "outputs": [
    {
     "data": {
      "text/html": [
       "<div>\n",
       "<style scoped>\n",
       "    .dataframe tbody tr th:only-of-type {\n",
       "        vertical-align: middle;\n",
       "    }\n",
       "\n",
       "    .dataframe tbody tr th {\n",
       "        vertical-align: top;\n",
       "    }\n",
       "\n",
       "    .dataframe thead th {\n",
       "        text-align: right;\n",
       "    }\n",
       "</style>\n",
       "<table border=\"1\" class=\"dataframe\">\n",
       "  <thead>\n",
       "    <tr style=\"text-align: right;\">\n",
       "      <th></th>\n",
       "      <th>CRIM</th>\n",
       "      <th>ZN</th>\n",
       "      <th>INDUS</th>\n",
       "      <th>CHAS</th>\n",
       "      <th>NOX</th>\n",
       "      <th>RM</th>\n",
       "      <th>AGE</th>\n",
       "      <th>DIS</th>\n",
       "      <th>RAD</th>\n",
       "      <th>TAX</th>\n",
       "      <th>PTRATIO</th>\n",
       "      <th>B</th>\n",
       "      <th>LSTAT</th>\n",
       "      <th>MEDV</th>\n",
       "    </tr>\n",
       "  </thead>\n",
       "  <tbody>\n",
       "    <tr>\n",
       "      <th>count</th>\n",
       "      <td>506.000000</td>\n",
       "      <td>506.000000</td>\n",
       "      <td>506.000000</td>\n",
       "      <td>506.000000</td>\n",
       "      <td>506.000000</td>\n",
       "      <td>506.000000</td>\n",
       "      <td>506.000000</td>\n",
       "      <td>506.000000</td>\n",
       "      <td>506.000000</td>\n",
       "      <td>506.000000</td>\n",
       "      <td>506.000000</td>\n",
       "      <td>506.000000</td>\n",
       "      <td>506.000000</td>\n",
       "      <td>506.000000</td>\n",
       "    </tr>\n",
       "    <tr>\n",
       "      <th>mean</th>\n",
       "      <td>3.613524</td>\n",
       "      <td>11.363636</td>\n",
       "      <td>11.136779</td>\n",
       "      <td>0.069170</td>\n",
       "      <td>0.554695</td>\n",
       "      <td>6.284634</td>\n",
       "      <td>68.574901</td>\n",
       "      <td>3.795043</td>\n",
       "      <td>9.549407</td>\n",
       "      <td>408.237154</td>\n",
       "      <td>18.455534</td>\n",
       "      <td>356.674032</td>\n",
       "      <td>12.653063</td>\n",
       "      <td>22.532806</td>\n",
       "    </tr>\n",
       "    <tr>\n",
       "      <th>std</th>\n",
       "      <td>8.601545</td>\n",
       "      <td>23.322453</td>\n",
       "      <td>6.860353</td>\n",
       "      <td>0.253994</td>\n",
       "      <td>0.115878</td>\n",
       "      <td>0.702617</td>\n",
       "      <td>28.148861</td>\n",
       "      <td>2.105710</td>\n",
       "      <td>8.707259</td>\n",
       "      <td>168.537116</td>\n",
       "      <td>2.164946</td>\n",
       "      <td>91.294864</td>\n",
       "      <td>7.141062</td>\n",
       "      <td>9.197104</td>\n",
       "    </tr>\n",
       "    <tr>\n",
       "      <th>min</th>\n",
       "      <td>0.006320</td>\n",
       "      <td>0.000000</td>\n",
       "      <td>0.460000</td>\n",
       "      <td>0.000000</td>\n",
       "      <td>0.385000</td>\n",
       "      <td>3.561000</td>\n",
       "      <td>2.900000</td>\n",
       "      <td>1.129600</td>\n",
       "      <td>1.000000</td>\n",
       "      <td>187.000000</td>\n",
       "      <td>12.600000</td>\n",
       "      <td>0.320000</td>\n",
       "      <td>1.730000</td>\n",
       "      <td>5.000000</td>\n",
       "    </tr>\n",
       "    <tr>\n",
       "      <th>25%</th>\n",
       "      <td>0.082045</td>\n",
       "      <td>0.000000</td>\n",
       "      <td>5.190000</td>\n",
       "      <td>0.000000</td>\n",
       "      <td>0.449000</td>\n",
       "      <td>5.885500</td>\n",
       "      <td>45.025000</td>\n",
       "      <td>2.100175</td>\n",
       "      <td>4.000000</td>\n",
       "      <td>279.000000</td>\n",
       "      <td>17.400000</td>\n",
       "      <td>375.377500</td>\n",
       "      <td>6.950000</td>\n",
       "      <td>17.025000</td>\n",
       "    </tr>\n",
       "    <tr>\n",
       "      <th>50%</th>\n",
       "      <td>0.256510</td>\n",
       "      <td>0.000000</td>\n",
       "      <td>9.690000</td>\n",
       "      <td>0.000000</td>\n",
       "      <td>0.538000</td>\n",
       "      <td>6.208500</td>\n",
       "      <td>77.500000</td>\n",
       "      <td>3.207450</td>\n",
       "      <td>5.000000</td>\n",
       "      <td>330.000000</td>\n",
       "      <td>19.050000</td>\n",
       "      <td>391.440000</td>\n",
       "      <td>11.360000</td>\n",
       "      <td>21.200000</td>\n",
       "    </tr>\n",
       "    <tr>\n",
       "      <th>75%</th>\n",
       "      <td>3.677083</td>\n",
       "      <td>12.500000</td>\n",
       "      <td>18.100000</td>\n",
       "      <td>0.000000</td>\n",
       "      <td>0.624000</td>\n",
       "      <td>6.623500</td>\n",
       "      <td>94.075000</td>\n",
       "      <td>5.188425</td>\n",
       "      <td>24.000000</td>\n",
       "      <td>666.000000</td>\n",
       "      <td>20.200000</td>\n",
       "      <td>396.225000</td>\n",
       "      <td>16.955000</td>\n",
       "      <td>25.000000</td>\n",
       "    </tr>\n",
       "    <tr>\n",
       "      <th>max</th>\n",
       "      <td>88.976200</td>\n",
       "      <td>100.000000</td>\n",
       "      <td>27.740000</td>\n",
       "      <td>1.000000</td>\n",
       "      <td>0.871000</td>\n",
       "      <td>8.780000</td>\n",
       "      <td>100.000000</td>\n",
       "      <td>12.126500</td>\n",
       "      <td>24.000000</td>\n",
       "      <td>711.000000</td>\n",
       "      <td>22.000000</td>\n",
       "      <td>396.900000</td>\n",
       "      <td>37.970000</td>\n",
       "      <td>50.000000</td>\n",
       "    </tr>\n",
       "  </tbody>\n",
       "</table>\n",
       "</div>"
      ],
      "text/plain": [
       "             CRIM          ZN       INDUS        CHAS         NOX          RM  \\\n",
       "count  506.000000  506.000000  506.000000  506.000000  506.000000  506.000000   \n",
       "mean     3.613524   11.363636   11.136779    0.069170    0.554695    6.284634   \n",
       "std      8.601545   23.322453    6.860353    0.253994    0.115878    0.702617   \n",
       "min      0.006320    0.000000    0.460000    0.000000    0.385000    3.561000   \n",
       "25%      0.082045    0.000000    5.190000    0.000000    0.449000    5.885500   \n",
       "50%      0.256510    0.000000    9.690000    0.000000    0.538000    6.208500   \n",
       "75%      3.677083   12.500000   18.100000    0.000000    0.624000    6.623500   \n",
       "max     88.976200  100.000000   27.740000    1.000000    0.871000    8.780000   \n",
       "\n",
       "              AGE         DIS         RAD         TAX     PTRATIO           B  \\\n",
       "count  506.000000  506.000000  506.000000  506.000000  506.000000  506.000000   \n",
       "mean    68.574901    3.795043    9.549407  408.237154   18.455534  356.674032   \n",
       "std     28.148861    2.105710    8.707259  168.537116    2.164946   91.294864   \n",
       "min      2.900000    1.129600    1.000000  187.000000   12.600000    0.320000   \n",
       "25%     45.025000    2.100175    4.000000  279.000000   17.400000  375.377500   \n",
       "50%     77.500000    3.207450    5.000000  330.000000   19.050000  391.440000   \n",
       "75%     94.075000    5.188425   24.000000  666.000000   20.200000  396.225000   \n",
       "max    100.000000   12.126500   24.000000  711.000000   22.000000  396.900000   \n",
       "\n",
       "            LSTAT        MEDV  \n",
       "count  506.000000  506.000000  \n",
       "mean    12.653063   22.532806  \n",
       "std      7.141062    9.197104  \n",
       "min      1.730000    5.000000  \n",
       "25%      6.950000   17.025000  \n",
       "50%     11.360000   21.200000  \n",
       "75%     16.955000   25.000000  \n",
       "max     37.970000   50.000000  "
      ]
     },
     "execution_count": 4,
     "metadata": {},
     "output_type": "execute_result"
    }
   ],
   "source": [
    "housing.describe()"
   ]
  },
  {
   "cell_type": "markdown",
   "id": "d44748f3",
   "metadata": {
    "ExecuteTime": {
     "end_time": "2023-06-20T10:24:32.936892Z",
     "start_time": "2023-06-20T10:24:32.926757Z"
    }
   },
   "source": [
    "From taking a look at the dataset, we can see that there are 13 numerical attributes and one categorical attribute (CHAS). So, when we will be splitting our dataset into training set and testset, we must take care that the values of CHAS is equally distributed in both of them, it should not be like that training set contains all 0s and test set contains all 1s. Considering this we will be using StratifiedShuffleSplit from sklearn to split dataset."
   ]
  },
  {
   "cell_type": "code",
   "execution_count": 5,
   "id": "621a10e1",
   "metadata": {
    "ExecuteTime": {
     "end_time": "2023-06-20T14:19:09.745403Z",
     "start_time": "2023-06-20T14:19:09.401824Z"
    }
   },
   "outputs": [],
   "source": [
    "from sklearn.model_selection import StratifiedShuffleSplit\n",
    "\n",
    "split = StratifiedShuffleSplit(n_splits=1, test_size=0.2, random_state=42)\n",
    "\n",
    "for train_index, test_index in split.split(housing, housing['CHAS']):\n",
    "    stratified_train_set = housing.loc[train_index]\n",
    "    stratified_test_set = housing.loc[test_index]"
   ]
  },
  {
   "cell_type": "code",
   "execution_count": 6,
   "id": "d98308fd",
   "metadata": {
    "ExecuteTime": {
     "end_time": "2023-06-20T14:19:09.766759Z",
     "start_time": "2023-06-20T14:19:09.747692Z"
    }
   },
   "outputs": [
    {
     "data": {
      "text/plain": [
       "MEDV       1.000000\n",
       "RM         0.695360\n",
       "ZN         0.360445\n",
       "B          0.333461\n",
       "DIS        0.249929\n",
       "CHAS       0.175260\n",
       "AGE       -0.376955\n",
       "RAD       -0.381626\n",
       "CRIM      -0.388305\n",
       "NOX       -0.427321\n",
       "TAX       -0.468536\n",
       "INDUS     -0.483725\n",
       "PTRATIO   -0.507787\n",
       "LSTAT     -0.737663\n",
       "Name: MEDV, dtype: float64"
      ]
     },
     "execution_count": 6,
     "metadata": {},
     "output_type": "execute_result"
    }
   ],
   "source": [
    "corr_matrix = housing.corr()\n",
    "corr_matrix[\"MEDV\"].sort_values(ascending=False)"
   ]
  },
  {
   "cell_type": "markdown",
   "id": "4d17243a",
   "metadata": {},
   "source": [
    "From the correlation matrix we can see that MEDV has a strong positive correlation with RM (number of rooms per dwelling) and a strong negative correlation with LSTAT. Now, let's see if MEDV has some relation with TAX/RM, that is tax per room."
   ]
  },
  {
   "cell_type": "code",
   "execution_count": 7,
   "id": "50b23751",
   "metadata": {
    "ExecuteTime": {
     "end_time": "2023-06-20T14:19:09.782338Z",
     "start_time": "2023-06-20T14:19:09.769750Z"
    }
   },
   "outputs": [
    {
     "data": {
      "text/plain": [
       "MEDV       1.000000\n",
       "RM         0.695360\n",
       "ZN         0.360445\n",
       "B          0.333461\n",
       "DIS        0.249929\n",
       "CHAS       0.175260\n",
       "AGE       -0.376955\n",
       "RAD       -0.381626\n",
       "CRIM      -0.388305\n",
       "NOX       -0.427321\n",
       "TAX       -0.468536\n",
       "INDUS     -0.483725\n",
       "PTRATIO   -0.507787\n",
       "TAXRM     -0.537650\n",
       "LSTAT     -0.737663\n",
       "Name: MEDV, dtype: float64"
      ]
     },
     "execution_count": 7,
     "metadata": {},
     "output_type": "execute_result"
    }
   ],
   "source": [
    "housing[\"TAXRM\"] = housing[\"TAX\"]/housing[\"RM\"]\n",
    "corr_matrix = housing.corr()\n",
    "corr_matrix[\"MEDV\"].sort_values(ascending=False)"
   ]
  },
  {
   "cell_type": "markdown",
   "id": "5be2b401",
   "metadata": {},
   "source": [
    "As we can see that MEDV has a strong negative relation with TAXRM, tax per room. Now, let's do a quick data exploration using ydata_profiling, which will give us the required information about all of the attributes."
   ]
  },
  {
   "cell_type": "code",
   "execution_count": 8,
   "id": "a85d0057",
   "metadata": {
    "ExecuteTime": {
     "end_time": "2023-06-20T14:20:29.437419Z",
     "start_time": "2023-06-20T14:19:09.788232Z"
    }
   },
   "outputs": [
    {
     "data": {
      "application/vnd.jupyter.widget-view+json": {
       "model_id": "408b9e96dff04c1887e3ab28d3296a51",
       "version_major": 2,
       "version_minor": 0
      },
      "text/plain": [
       "Summarize dataset:   0%|          | 0/5 [00:00<?, ?it/s]"
      ]
     },
     "metadata": {},
     "output_type": "display_data"
    },
    {
     "data": {
      "application/vnd.jupyter.widget-view+json": {
       "model_id": "4f361e800b074620986906506c83f427",
       "version_major": 2,
       "version_minor": 0
      },
      "text/plain": [
       "Generate report structure:   0%|          | 0/1 [00:00<?, ?it/s]"
      ]
     },
     "metadata": {},
     "output_type": "display_data"
    },
    {
     "data": {
      "application/vnd.jupyter.widget-view+json": {
       "model_id": "5f4a67c3c5484f538c955d5010c01c88",
       "version_major": 2,
       "version_minor": 0
      },
      "text/plain": [
       "Render HTML:   0%|          | 0/1 [00:00<?, ?it/s]"
      ]
     },
     "metadata": {},
     "output_type": "display_data"
    },
    {
     "data": {
      "application/vnd.jupyter.widget-view+json": {
       "model_id": "7534f22012914a5887c00322c4a505b8",
       "version_major": 2,
       "version_minor": 0
      },
      "text/plain": [
       "Export report to file:   0%|          | 0/1 [00:00<?, ?it/s]"
      ]
     },
     "metadata": {},
     "output_type": "display_data"
    }
   ],
   "source": [
    "profile = ProfileReport(housing)\n",
    "profile.to_file(\"housing_report.html\")"
   ]
  },
  {
   "cell_type": "markdown",
   "id": "2dfc4be5",
   "metadata": {},
   "source": [
    "Splitting our training set into inputs and labels"
   ]
  },
  {
   "cell_type": "code",
   "execution_count": 9,
   "id": "b1b48e00",
   "metadata": {
    "ExecuteTime": {
     "end_time": "2023-06-20T14:20:29.452192Z",
     "start_time": "2023-06-20T14:20:29.440609Z"
    }
   },
   "outputs": [],
   "source": [
    "housing = stratified_train_set.drop(\"MEDV\", axis=1)\n",
    "housing_labels = stratified_train_set[\"MEDV\"].copy()"
   ]
  },
  {
   "cell_type": "markdown",
   "id": "5b32fe57",
   "metadata": {},
   "source": [
    "Since, this dataset does not contain any missing values, we don't have to worry about them, the only thing which we have to take care of while creating pipeline is to scale the attributes. To scale the attributes we will be using StandardScaler from sklearn."
   ]
  },
  {
   "cell_type": "code",
   "execution_count": 10,
   "id": "84da1d00",
   "metadata": {
    "ExecuteTime": {
     "end_time": "2023-06-20T14:20:29.478792Z",
     "start_time": "2023-06-20T14:20:29.457308Z"
    }
   },
   "outputs": [],
   "source": [
    "from sklearn.pipeline import Pipeline\n",
    "from sklearn.preprocessing import StandardScaler\n",
    "\n",
    "pipeline = Pipeline([\n",
    "    ('std_scaler', StandardScaler()),\n",
    "])\n",
    "\n",
    "housing_tr = pipeline.fit_transform(housing)"
   ]
  },
  {
   "cell_type": "markdown",
   "id": "52e75395",
   "metadata": {},
   "source": [
    "Now, our data is scaled, so, we are ready to train models on data, we will be using different models for training, then we will check their performance using performance measure."
   ]
  },
  {
   "cell_type": "markdown",
   "id": "0ef26687",
   "metadata": {},
   "source": [
    "## Training models"
   ]
  },
  {
   "cell_type": "code",
   "execution_count": 11,
   "id": "b4034fdf",
   "metadata": {
    "ExecuteTime": {
     "end_time": "2023-06-20T14:20:30.197616Z",
     "start_time": "2023-06-20T14:20:29.482287Z"
    }
   },
   "outputs": [
    {
     "data": {
      "text/plain": [
       "RandomForestRegressor()"
      ]
     },
     "execution_count": 11,
     "metadata": {},
     "output_type": "execute_result"
    }
   ],
   "source": [
    "from sklearn.linear_model import LinearRegression\n",
    "from sklearn.tree import DecisionTreeRegressor\n",
    "from sklearn.ensemble import RandomForestRegressor\n",
    "\n",
    "model1 = LinearRegression()\n",
    "model2 = DecisionTreeRegressor()\n",
    "model3 = RandomForestRegressor()\n",
    "\n",
    "model1.fit(housing_tr, housing_labels)\n",
    "model2.fit(housing_tr, housing_labels)\n",
    "model3.fit(housing_tr, housing_labels)"
   ]
  },
  {
   "cell_type": "markdown",
   "id": "a08055cb",
   "metadata": {},
   "source": [
    "# Evaluating model"
   ]
  },
  {
   "cell_type": "markdown",
   "id": "8c370ed5",
   "metadata": {
    "ExecuteTime": {
     "end_time": "2023-06-20T13:03:31.589335Z",
     "start_time": "2023-06-20T13:03:31.564973Z"
    }
   },
   "source": [
    "We will be evaluating our models using performance measure and cross validation."
   ]
  },
  {
   "cell_type": "code",
   "execution_count": 12,
   "id": "95dce0fd",
   "metadata": {
    "ExecuteTime": {
     "end_time": "2023-06-20T14:20:30.236111Z",
     "start_time": "2023-06-20T14:20:30.200274Z"
    }
   },
   "outputs": [
    {
     "name": "stdout",
     "output_type": "stream",
     "text": [
      "[20.90447108 28.82280629 15.02261426 24.73759946 23.05953861]\n",
      "[19.4 33.4 10.5 25.  19.9]\n",
      "[19.967 31.971  9.555 21.46  21.489]\n"
     ]
    }
   ],
   "source": [
    "some_data = housing.iloc[:5]\n",
    "some_labels = housing_labels.iloc[:5]\n",
    "some_data_tr = pipeline.fit_transform(some_data)\n",
    "\n",
    "print(model1.predict(some_data_tr))\n",
    "print(model2.predict(some_data_tr))\n",
    "print(model3.predict(some_data_tr))"
   ]
  },
  {
   "cell_type": "code",
   "execution_count": 13,
   "id": "14d6d409",
   "metadata": {
    "ExecuteTime": {
     "end_time": "2023-06-20T14:20:30.251799Z",
     "start_time": "2023-06-20T14:20:30.241943Z"
    }
   },
   "outputs": [],
   "source": [
    "def evaluate_rmse(model, data, labels):\n",
    "    from sklearn.metrics import mean_squared_error\n",
    "\n",
    "    predictions = model.predict(data)\n",
    "    lin_mse = mean_squared_error(labels, predictions)\n",
    "    lin_rmse = np.sqrt(lin_mse)\n",
    "    print(\"Root mean square is: \",lin_rmse)"
   ]
  },
  {
   "cell_type": "code",
   "execution_count": 14,
   "id": "2ad0a3cc",
   "metadata": {
    "ExecuteTime": {
     "end_time": "2023-06-20T14:20:30.286123Z",
     "start_time": "2023-06-20T14:20:30.257856Z"
    }
   },
   "outputs": [],
   "source": [
    "def evaluate_cross_val_rmse(model, data, label,n):\n",
    "    from sklearn.model_selection import cross_val_score\n",
    "    score = -cross_val_score(model, data, label, scoring=\"neg_mean_squared_error\", cv=n)\n",
    "    rmse_scores = np.sqrt(score)\n",
    "\n",
    "    print(\"Root mean square is: \", rmse_scores)\n",
    "    print(\"Mean: \", rmse_scores.mean())\n",
    "    print(\"Standard deviation: \", rmse_scores.std())"
   ]
  },
  {
   "cell_type": "code",
   "execution_count": 15,
   "id": "7d721747",
   "metadata": {
    "ExecuteTime": {
     "end_time": "2023-06-20T14:20:30.582244Z",
     "start_time": "2023-06-20T14:20:30.294137Z"
    }
   },
   "outputs": [
    {
     "name": "stdout",
     "output_type": "stream",
     "text": [
      "Root mean square is:  4.829321492635759\n",
      "\n",
      "\n",
      "Root mean square is:  [4.21674442 4.26026816 5.1071608  3.82881892 5.34093789 4.3785611\n",
      " 7.47384779 5.48226252 4.14885722 6.0669122 ]\n",
      "Mean:  5.030437102767305\n",
      "Standard deviation:  1.0607661158294834\n"
     ]
    }
   ],
   "source": [
    "# Evaluating LinearRegressor using performance measure\n",
    "evaluate_rmse(model1, housing_tr, housing_labels)\n",
    "print(\"\\n\")\n",
    "\n",
    "# Evaluating LinearRegressor using cross validation\n",
    "evaluate_cross_val_rmse(model1, housing_tr, housing_labels, 10)"
   ]
  },
  {
   "cell_type": "code",
   "execution_count": 16,
   "id": "9a2c95f7",
   "metadata": {
    "ExecuteTime": {
     "end_time": "2023-06-20T14:20:30.662163Z",
     "start_time": "2023-06-20T14:20:30.584424Z"
    }
   },
   "outputs": [
    {
     "name": "stdout",
     "output_type": "stream",
     "text": [
      "Root mean square is:  0.0\n",
      "\n",
      "\n",
      "Root mean square is:  [4.01497198 5.6742035  5.47426351 3.8621364  4.06813839 3.03973683\n",
      " 4.60478013 3.75366488 3.38921082 4.24879395]\n",
      "Mean:  4.2129900384564305\n",
      "Standard deviation:  0.7956219743765182\n"
     ]
    }
   ],
   "source": [
    "# Evaluating DecisionTreeRegressor using performance measure\n",
    "evaluate_rmse(model2, housing_tr, housing_labels)\n",
    "print(\"\\n\")\n",
    "\n",
    "# Evaluating DecisionRegressor using cross validation\n",
    "evaluate_cross_val_rmse(model2, housing_tr, housing_labels, 10)"
   ]
  },
  {
   "cell_type": "code",
   "execution_count": 17,
   "id": "0fff94b7",
   "metadata": {
    "ExecuteTime": {
     "end_time": "2023-06-20T14:20:34.219348Z",
     "start_time": "2023-06-20T14:20:30.665556Z"
    }
   },
   "outputs": [
    {
     "name": "stdout",
     "output_type": "stream",
     "text": [
      "Root mean square is:  1.2111125980880233\n",
      "\n",
      "\n",
      "Root mean square is:  [2.83454152 2.82557109 4.4327064  2.56632362 3.67603634 2.77113853\n",
      " 4.84101949 3.26934706 3.25527787 3.21860072]\n",
      "Mean:  3.3690562640132193\n",
      "Standard deviation:  0.7085729239188047\n"
     ]
    }
   ],
   "source": [
    "# Evaluating RandomForestRegressor using performance measure\n",
    "evaluate_rmse(model3, housing_tr, housing_labels)\n",
    "print(\"\\n\")\n",
    "\n",
    "# Evaluating RandomForestRegressor using cross validation\n",
    "evaluate_cross_val_rmse(model3, housing_tr, housing_labels, 10)"
   ]
  },
  {
   "cell_type": "markdown",
   "id": "a511afe6",
   "metadata": {},
   "source": [
    "LinearRegressor is giving a very high error, so we will have to discard this model. \n",
    "\n",
    "DecisonTreeRegressor is giving 0 error, but this means that it is overfitting the data, after using cross validation we can see that this model is performing only slightly better than LinearRegressor.\n",
    "\n",
    "We can see that RandomForestRegressor is the performing better than both of the previou model, so, now evaluate this model on test set."
   ]
  },
  {
   "cell_type": "markdown",
   "id": "bab6eef8",
   "metadata": {},
   "source": [
    "# Evaluating our model on test set "
   ]
  },
  {
   "cell_type": "code",
   "execution_count": 18,
   "id": "e301df38",
   "metadata": {
    "ExecuteTime": {
     "end_time": "2023-06-20T14:20:34.237375Z",
     "start_time": "2023-06-20T14:20:34.223509Z"
    }
   },
   "outputs": [],
   "source": [
    "X_test = stratified_test_set.drop(\"MEDV\", axis=1)\n",
    "y_test = stratified_test_set[\"MEDV\"].copy()\n",
    "X_test_tr = pipeline.fit_transform(X_test)"
   ]
  },
  {
   "cell_type": "code",
   "execution_count": 19,
   "id": "791e73d5",
   "metadata": {
    "ExecuteTime": {
     "end_time": "2023-06-20T14:20:34.336533Z",
     "start_time": "2023-06-20T14:20:34.241851Z"
    }
   },
   "outputs": [],
   "source": [
    "test_predictions = model3.predict(X_test_tr)"
   ]
  },
  {
   "cell_type": "code",
   "execution_count": 20,
   "id": "af20e4da",
   "metadata": {
    "ExecuteTime": {
     "end_time": "2023-06-20T14:20:34.412402Z",
     "start_time": "2023-06-20T14:20:34.342719Z"
    }
   },
   "outputs": [
    {
     "name": "stdout",
     "output_type": "stream",
     "text": [
      "Root mean square is:  3.4219988153353973\n"
     ]
    }
   ],
   "source": [
    "evaluate_rmse(model3,X_test_tr, y_test)"
   ]
  },
  {
   "cell_type": "markdown",
   "id": "0f465578",
   "metadata": {},
   "source": [
    "Our model is working fine on test set, now let's save it. "
   ]
  },
  {
   "cell_type": "code",
   "execution_count": 21,
   "id": "23143000",
   "metadata": {
    "ExecuteTime": {
     "end_time": "2023-06-20T14:20:34.635324Z",
     "start_time": "2023-06-20T14:20:34.419430Z"
    }
   },
   "outputs": [
    {
     "data": {
      "text/plain": [
       "['ml_project_boston_housing.joblib']"
      ]
     },
     "execution_count": 21,
     "metadata": {},
     "output_type": "execute_result"
    }
   ],
   "source": [
    "# saving the model\n",
    "from joblib import dump, load\n",
    "dump(model3, 'ml_project_boston_housing.joblib')"
   ]
  },
  {
   "cell_type": "code",
   "execution_count": null,
   "id": "e8fdb1a1",
   "metadata": {},
   "outputs": [],
   "source": []
  }
 ],
 "metadata": {
  "kernelspec": {
   "display_name": "Python 3 (ipykernel)",
   "language": "python",
   "name": "python3"
  },
  "language_info": {
   "codemirror_mode": {
    "name": "ipython",
    "version": 3
   },
   "file_extension": ".py",
   "mimetype": "text/x-python",
   "name": "python",
   "nbconvert_exporter": "python",
   "pygments_lexer": "ipython3",
   "version": "3.9.12"
  }
 },
 "nbformat": 4,
 "nbformat_minor": 5
}
